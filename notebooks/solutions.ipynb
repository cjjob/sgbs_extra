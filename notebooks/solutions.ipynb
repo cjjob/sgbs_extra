{
 "cells": [
  {
   "cell_type": "markdown",
   "metadata": {
    "toc": true
   },
   "source": [
    "<h1>Table of Contents<span class=\"tocSkip\"></span></h1>\n",
    "<div class=\"toc\"><ul class=\"toc-item\"><li><span><a href=\"#Problem-3.5.1\" data-toc-modified-id=\"Problem-3.5.1-1\"><span class=\"toc-item-num\">1&nbsp;&nbsp;</span>Problem 3.5.1</a></span></li></ul></div>"
   ]
  },
  {
   "cell_type": "code",
   "execution_count": 3,
   "metadata": {},
   "outputs": [],
   "source": [
    "import numpy as np\n",
    "import matplotlib.pyplot as plt"
   ]
  },
  {
   "cell_type": "markdown",
   "metadata": {},
   "source": [
    "## Problem 3.5.1\n",
    "\n",
    "Possible names = $26^2$\n",
    "\n",
    "Let $n$ be the number of people.\n",
    "\n",
    "(Note this is a bad answer compared to the solutions pdf, but just checking it is correct).\n",
    "\n",
    "Probability of no \"clash\" is given by:\n",
    "- $p(n=1) = 1$\n",
    "- $p(n=2) = 1 - \\frac{1}{26^2}$\n",
    "- $p(n=3) = (1 - \\frac{1}{26^2})*(1 - \\frac{1}{26^2} \\cdot \\frac{1}{26^2- 1})$\n",
    "    - Where the next multiple is saying, the probability of the 3rd person ALSO not matching the first name OR the second name. Note, it is implied by the first term that Person 1 and Person 2 have different names."
   ]
  },
  {
   "cell_type": "code",
   "execution_count": null,
   "metadata": {},
   "outputs": [],
   "source": [
    "def name_clash(alphabet_size = 26, name_length = 2, n):\n",
    "    if n >= alphabet_size * name_length:\n",
    "        return 1\n",
    "    else:\n",
    "        "
   ]
  }
 ],
 "metadata": {
  "kernelspec": {
   "display_name": "Python 3",
   "language": "python",
   "name": "python3"
  },
  "language_info": {
   "codemirror_mode": {
    "name": "ipython",
    "version": 3
   },
   "file_extension": ".py",
   "mimetype": "text/x-python",
   "name": "python",
   "nbconvert_exporter": "python",
   "pygments_lexer": "ipython3",
   "version": "3.7.3"
  },
  "toc": {
   "base_numbering": 1,
   "nav_menu": {},
   "number_sections": true,
   "sideBar": true,
   "skip_h1_title": true,
   "title_cell": "Table of Contents",
   "title_sidebar": "Contents",
   "toc_cell": true,
   "toc_position": {},
   "toc_section_display": true,
   "toc_window_display": true
  },
  "varInspector": {
   "cols": {
    "lenName": 16,
    "lenType": 16,
    "lenVar": 40
   },
   "kernels_config": {
    "python": {
     "delete_cmd_postfix": "",
     "delete_cmd_prefix": "del ",
     "library": "var_list.py",
     "varRefreshCmd": "print(var_dic_list())"
    },
    "r": {
     "delete_cmd_postfix": ") ",
     "delete_cmd_prefix": "rm(",
     "library": "var_list.r",
     "varRefreshCmd": "cat(var_dic_list()) "
    }
   },
   "types_to_exclude": [
    "module",
    "function",
    "builtin_function_or_method",
    "instance",
    "_Feature"
   ],
   "window_display": false
  }
 },
 "nbformat": 4,
 "nbformat_minor": 2
}
